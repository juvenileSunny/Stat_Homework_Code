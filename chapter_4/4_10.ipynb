{
 "cells": [
  {
   "cell_type": "code",
   "execution_count": 1,
   "id": "3621ee1c",
   "metadata": {},
   "outputs": [
    {
     "data": {
      "text/plain": [
       "(np.float64(14.0), np.float64(20.0), np.float64(35.0), [69])"
      ]
     },
     "execution_count": 1,
     "metadata": {},
     "output_type": "execute_result"
    }
   ],
   "source": [
    "import numpy as np\n",
    "import matplotlib.pyplot as plt\n",
    "\n",
    "# Manually reconstruct the full data set from the stem-and-leaf plot\n",
    "data = [\n",
    "    2, 6, 6, 8, 9,                           # 0-stem\n",
    "    10, 11, 12, 12, 13, 13, 14, 14,          # 1H-stem\n",
    "    15, 15, 16, 17, 18, 18, 19, 19,          # 1-stem\n",
    "    20, 20, 20, 21, 23,                      # 2M-stem\n",
    "    26, 27, 28, 29,                          # 2-stem\n",
    "    30, 31, 32, 33, 34,                      # 3H-stem\n",
    "    36, 37, 39,                              # 3-stem\n",
    "    40, 43,                                  # 4-stem\n",
    "    45,                                      # 4-stem continued\n",
    "    52,                                      # 5-stem\n",
    "    50,                                      # 5-stem continued\n",
    "    61,                                      # 6-stem\n",
    "    62, 64, 69                               # OUTSIDE VALUES\n",
    "]\n",
    "\n",
    "# Sort data for quartile calculations\n",
    "data_sorted = sorted(data)\n",
    "Q1 = np.percentile(data_sorted, 25)\n",
    "Q2 = np.percentile(data_sorted, 50)\n",
    "Q3 = np.percentile(data_sorted, 75)\n",
    "IQR = Q3 - Q1\n",
    "\n",
    "# Identify outliers using 1.5 * IQR rule\n",
    "lower_bound = Q1 - 1.5 * IQR\n",
    "upper_bound = Q3 + 1.5 * IQR\n",
    "outliers = [x for x in data if x < lower_bound or x > upper_bound]\n",
    "\n",
    "Q1, Q2, Q3, outliers\n"
   ]
  },
  {
   "cell_type": "code",
   "execution_count": null,
   "id": "ca80fb97",
   "metadata": {},
   "outputs": [],
   "source": []
  }
 ],
 "metadata": {
  "kernelspec": {
   "display_name": "Python 3",
   "language": "python",
   "name": "python3"
  },
  "language_info": {
   "codemirror_mode": {
    "name": "ipython",
    "version": 3
   },
   "file_extension": ".py",
   "mimetype": "text/x-python",
   "name": "python",
   "nbconvert_exporter": "python",
   "pygments_lexer": "ipython3",
   "version": "3.11.9"
  }
 },
 "nbformat": 4,
 "nbformat_minor": 5
}
