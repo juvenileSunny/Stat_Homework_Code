{
 "cells": [
  {
   "cell_type": "code",
   "execution_count": 1,
   "id": "1c383147",
   "metadata": {},
   "outputs": [
    {
     "data": {
      "text/plain": [
       "({'Min': np.int64(452),\n",
       "  'Q1': np.float64(865.0),\n",
       "  'Median (Q2)': np.float64(1331.0),\n",
       "  'Q3': np.float64(1727.0),\n",
       "  'Max': np.int64(3830)},\n",
       " np.float64(862.0),\n",
       " np.float64(638.5185185185185),\n",
       " np.float64(693.6701770464038),\n",
       " np.float64(1369.1063829787233),\n",
       " np.float64(1292.6410256410256))"
      ]
     },
     "execution_count": 1,
     "metadata": {},
     "output_type": "execute_result"
    }
   ],
   "source": [
    "import numpy as np\n",
    "import pandas as pd\n",
    "from scipy.stats import trim_mean\n",
    "\n",
    "# Data: Daily maximum rainfall for each year (in mm)\n",
    "rainfall = np.array([\n",
    "    1468, 909, 841, 475, 846, 452,\n",
    "    3830, 1397, 556, 978, 1715, 747,\n",
    "    909, 2002, 1331, 1227, 2543, 2649,\n",
    "    1781, 1717, 2718, 584, 1859, 1138,\n",
    "    2675, 1872, 1359, 1544, 1372, 1334,\n",
    "    955, 1849, 719, 1737, 1389, 681,\n",
    "    1565, 701, 994, 1188, 962, 1564,\n",
    "    1800, 580, 1106, 880, 850\n",
    "])\n",
    "\n",
    "# (a) Five-number summary\n",
    "five_num_summary = {\n",
    "    'Min': np.min(rainfall),\n",
    "    'Q1': np.percentile(rainfall, 25),\n",
    "    'Median (Q2)': np.median(rainfall),\n",
    "    'Q3': np.percentile(rainfall, 75),\n",
    "    'Max': np.max(rainfall)\n",
    "}\n",
    "\n",
    "# (b) Rough estimate of SD from IQR\n",
    "iqr = five_num_summary['Q3'] - five_num_summary['Q1']\n",
    "estimated_sd = iqr / 1.35\n",
    "\n",
    "# Actual sample SD\n",
    "sample_sd = np.std(rainfall, ddof=1)\n",
    "\n",
    "# (c) Compare 10% trimmed mean with sample mean\n",
    "sample_mean = np.mean(rainfall)\n",
    "trimmed_mean_10pct = trim_mean(rainfall, 0.10)\n",
    "\n",
    "(five_num_summary, iqr, estimated_sd, sample_sd, sample_mean, trimmed_mean_10pct)\n"
   ]
  },
  {
   "cell_type": "code",
   "execution_count": null,
   "id": "eedd674a",
   "metadata": {},
   "outputs": [],
   "source": []
  }
 ],
 "metadata": {
  "kernelspec": {
   "display_name": "Python 3",
   "language": "python",
   "name": "python3"
  },
  "language_info": {
   "codemirror_mode": {
    "name": "ipython",
    "version": 3
   },
   "file_extension": ".py",
   "mimetype": "text/x-python",
   "name": "python",
   "nbconvert_exporter": "python",
   "pygments_lexer": "ipython3",
   "version": "3.11.9"
  }
 },
 "nbformat": 4,
 "nbformat_minor": 5
}
